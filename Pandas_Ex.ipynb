{
 "cells": [
  {
   "cell_type": "code",
   "execution_count": null,
   "id": "17cafb16-a3c0-430c-9179-ac0029988414",
   "metadata": {},
   "outputs": [],
   "source": [
    "import pandas as pd"
   ]
  },
  {
   "cell_type": "code",
   "execution_count": null,
   "id": "ba8edb6e-48fe-427a-9398-3f27d834439b",
   "metadata": {},
   "outputs": [],
   "source": [
    "df = pd.read_csv('./data/rentals.csv')\n",
    "df.info()"
   ]
  },
  {
   "cell_type": "code",
   "execution_count": null,
   "id": "febe4e0b-733a-4989-9619-316840ddbe62",
   "metadata": {},
   "outputs": [],
   "source": [
    "df.isna().sum()"
   ]
  },
  {
   "cell_type": "code",
   "execution_count": null,
   "id": "55a78008",
   "metadata": {},
   "outputs": [],
   "source": [
    "df[['bathrooms', 'bedrooms']].median()"
   ]
  },
  {
   "cell_type": "code",
   "execution_count": null,
   "id": "6e0aa918-f023-4dc5-be0f-20d0ee95ea4f",
   "metadata": {},
   "outputs": [],
   "source": [
    "df[['bathrooms', 'bedrooms']]=df[['bathrooms', 'bedrooms']].fillna(df[['bathrooms', 'bedrooms']].median())"
   ]
  },
  {
   "cell_type": "code",
   "execution_count": null,
   "id": "fb762148-07dc-4f73-b09c-3444bd058380",
   "metadata": {},
   "outputs": [],
   "source": [
    "df['price'] = df['price'].str.strip()\n",
    "df['price'] = df['price'].str.replace('$','', regex = False)\n",
    "df['price'] = df['price'].str.replace(',','', regex = False)\n",
    "df['price'] = df['price'].astype(float)"
   ]
  },
  {
   "cell_type": "code",
   "execution_count": null,
   "id": "e0d2a731-612f-459e-9031-1f1c70605c9a",
   "metadata": {},
   "outputs": [],
   "source": [
    "df.describe()"
   ]
  },
  {
   "cell_type": "code",
   "execution_count": null,
   "id": "f674aa9a-cc70-4bc0-ac5f-9ddc6e125fa4",
   "metadata": {},
   "outputs": [],
   "source": [
    "idx_loc = df[df['minimum_nights']>365].index\n",
    "df = df.drop(idx_loc, axis = 0)"
   ]
  },
  {
   "cell_type": "code",
   "execution_count": null,
   "id": "80346d0f-fdd1-427c-8dfd-30da9ce2a1c9",
   "metadata": {},
   "outputs": [],
   "source": [
    "df.info()"
   ]
  },
  {
   "cell_type": "code",
   "execution_count": null,
   "id": "8c9594fe-7ea9-48d2-9dc9-4b9268e41e4c",
   "metadata": {},
   "outputs": [],
   "source": [
    "df.describe()"
   ]
  },
  {
   "cell_type": "code",
   "execution_count": null,
   "id": "eb98a829-ae54-497f-96ca-558714891774",
   "metadata": {},
   "outputs": [],
   "source": [
    "p_group = df.groupby('property_type')[['price']].mean()\n",
    "p_group.sort_values(by = 'price')"
   ]
  },
  {
   "cell_type": "code",
   "execution_count": null,
   "id": "ba37b58a-87cd-45bd-a9fe-2c9555b9ad1b",
   "metadata": {},
   "outputs": [],
   "source": [
    "df['room_type'].value_counts()"
   ]
  }
 ],
 "metadata": {
  "kernelspec": {
   "display_name": "Python 3 (ipykernel)",
   "language": "python",
   "name": "python3"
  },
  "language_info": {
   "codemirror_mode": {
    "name": "ipython",
    "version": 3
   },
   "file_extension": ".py",
   "mimetype": "text/x-python",
   "name": "python",
   "nbconvert_exporter": "python",
   "pygments_lexer": "ipython3",
   "version": "3.8.10"
  }
 },
 "nbformat": 4,
 "nbformat_minor": 5
}
