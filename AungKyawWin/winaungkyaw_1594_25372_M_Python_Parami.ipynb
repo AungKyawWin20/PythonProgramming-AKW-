{
  "cells": [
    {
      "cell_type": "markdown",
      "metadata": {
        "id": "bBSbIZTtW7q4"
      },
      "source": [
        "1) Write a Python program to create a dictionary that count the frequency of words in the string given in Q1.txt. Find the most frequent occured word."
      ]
    },
    {
      "cell_type": "code",
      "execution_count": 1,
      "metadata": {
        "colab": {
          "base_uri": "https://localhost:8080/"
        },
        "id": "l6y53V9ZWzox",
        "outputId": "3340d656-7a95-4e77-a195-db79a2bf8196"
      },
      "outputs": [
        {
          "name": "stdout",
          "output_type": "stream",
          "text": [
            "Frequency of each word: Counter({'it': 5, 'i': 4, 'the': 4, 'and': 4, 'to': 3, 'are': 2, 'love': 1, 'this': 1, 'movie!': 1, 'is': 1, 'sweet,': 1, 'but': 1, 'with': 1, 'satirical': 1, 'humor.': 1, 'dialogs': 1, 'great': 1, 'adventure': 1, 'scenes': 1, 'fun.': 1, 'manages': 1, 'be': 1, 'romantic': 1, 'whimsical': 1, 'while': 1, 'laughingat': 1, 'conventions': 1, 'of': 1, 'fairy': 1, 'tale': 1, 'genre.': 1, 'would': 1, 'recommend': 1, 'just': 1, 'about': 1, 'anyone.': 1, 'have': 1, 'seen': 1, 'several': 1, 'times': 1, 'am': 1, 'always': 1, 'happy': 1, 'see': 1, 'again': 1, 'again.': 1})\n",
            "\n",
            "Most frequent word: it\n",
            "\n",
            "Frequency of the word: 5\n"
          ]
        }
      ],
      "source": [
        "from collections import Counter\n",
        "\n",
        "with open('Q1.txt', 'r') as file1:\n",
        "    wordlist = file1.read()\n",
        "\n",
        "words = wordlist.lower().split()\n",
        "\n",
        "word_freq = Counter(words)\n",
        "most_common, freq = word_freq.most_common(1)[0]\n",
        "\n",
        "print(\"\"\"Frequency of each word: {}\n",
        "\n",
        "Most frequent word: {}\n",
        "\n",
        "Frequency of the word: {}\"\"\".format(word_freq, most_common, freq))"
      ]
    },
    {
      "cell_type": "markdown",
      "metadata": {
        "id": "aQP7q021Xr9W"
      },
      "source": [
        "2) Write a Python program to read the name from Q2.txt and create email using domain 'parami.edu.mm' and save the results as dictionary :\n",
        "{'name': 'name@parami.edu.mm'}.\n",
        "Please take note that your email should not include space or any special characters and all charcters should be in lowercase."
      ]
    },
    {
      "cell_type": "code",
      "execution_count": 3,
      "metadata": {
        "colab": {
          "base_uri": "https://localhost:8080/"
        },
        "id": "2B2TGvQCXuR3",
        "outputId": "83aacabb-177e-4241-b59d-420c6e02b507"
      },
      "outputs": [
        {
          "data": {
            "text/plain": [
              "{'Dechen Dorji': 'dechendorji@parami.edu.mm',\n",
              " 'Deki Tshomo': 'dekitshomo@parami.edu.mm',\n",
              " 'Dorji Tshering': 'dorjitshering@parami.edu.mm',\n",
              " 'Dorji Wangmo': 'dorjiwangmo@parami.edu.mm',\n",
              " 'Gem Tshering Lepcha': 'gemtsheringlepcha@parami.edu.mm',\n",
              " 'Jigme Dorji': 'jigmedorji@parami.edu.mm',\n",
              " 'Kinley Cheki': 'kinleycheki@parami.edu.mm',\n",
              " 'Kinley Wangmo': 'kinleywangmo@parami.edu.mm',\n",
              " 'Ngawang Dema Karpo': 'ngawangdemakarpo@parami.edu.mm',\n",
              " 'Roshan Chhetri': 'roshanchhetri@parami.edu.mm',\n",
              " 'Sonam Tenzin': 'sonamtenzin@parami.edu.mm',\n",
              " 'Sonam Tobgay': 'sonamtobgay@parami.edu.mm',\n",
              " 'Sonam Yangden': 'sonamyangden@parami.edu.mm',\n",
              " 'Tandin Om': 'tandinom@parami.edu.mm',\n",
              " 'Tandin Wangchuk': 'tandinwangchuk@parami.edu.mm',\n",
              " 'Tashi Om': 'tashiom@parami.edu.mm',\n",
              " 'Tenday Zangmo': 'tendayzangmo@parami.edu.mm',\n",
              " 'Tshering Pem': 'tsheringpem@parami.edu.mm',\n",
              " 'Ugyen Phurpa': 'ugyenphurpa@parami.edu.mm',\n",
              " 'Marmitt': 'marmitt@parami.edu.mm'}"
            ]
          },
          "execution_count": 3,
          "metadata": {},
          "output_type": "execute_result"
        }
      ],
      "source": [
        "with open ('Q2.txt', 'r') as names:\n",
        "    header = names.readline()\n",
        "    namelist = names.readlines()\n",
        "mail_dict = {}\n",
        "for name in namelist:\n",
        "  c_name = \"\".join(n for n in name if n.isalnum()).lower()\n",
        "\n",
        "  mail = \"{}@parami.edu.mm\".format(c_name)\n",
        "\n",
        "  mail_dict[name.strip()] = mail\n",
        "\n",
        "mail_dict"
      ]
    },
    {
      "cell_type": "code",
      "execution_count": null,
      "metadata": {},
      "outputs": [],
      "source": []
    }
  ],
  "metadata": {
    "colab": {
      "provenance": []
    },
    "kernelspec": {
      "display_name": "Python 3",
      "name": "python3"
    },
    "language_info": {
      "codemirror_mode": {
        "name": "ipython",
        "version": 3
      },
      "file_extension": ".py",
      "mimetype": "text/x-python",
      "name": "python",
      "nbconvert_exporter": "python",
      "pygments_lexer": "ipython3",
      "version": "3.9.13"
    }
  },
  "nbformat": 4,
  "nbformat_minor": 0
}
